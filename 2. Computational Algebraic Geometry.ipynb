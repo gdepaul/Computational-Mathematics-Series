{
 "cells": [
  {
   "cell_type": "code",
   "execution_count": 1,
   "id": "cdd968ac",
   "metadata": {},
   "outputs": [],
   "source": [
    "from itertools import combinations as subsets\n",
    "import random,time"
   ]
  },
  {
   "cell_type": "markdown",
   "id": "82be6341",
   "metadata": {},
   "source": [
    "# An Introduction to Computational Algebraic Geometry using Sage"
   ]
  },
  {
   "cell_type": "markdown",
   "id": "bbc2be01",
   "metadata": {},
   "source": [
    "**Presented by:** Greg DePaul on behalf of the UC Davis SIAM. "
   ]
  },
  {
   "cell_type": "markdown",
   "id": "93178624",
   "metadata": {},
   "source": [
    "**Materials:** David A. Cox • John Little • Donal O’Shea - \"Ideals, Varieties, and Algorithms\" -\n",
    "Chapters 1,2 and 3.1"
   ]
  },
  {
   "cell_type": "markdown",
   "id": "04179c3f",
   "metadata": {},
   "source": [
    "**Attribution:** Alex Chandler's Math 165 Course. Much of the materials, such as examples, come directly from this course. "
   ]
  },
  {
   "cell_type": "code",
   "execution_count": 2,
   "id": "15337504",
   "metadata": {},
   "outputs": [],
   "source": [
    "# Useful Functions:\n",
    "\n",
    "def is_less_than(a,b,order):\n",
    "    if order == 'lex':\n",
    "        return next((k for (i,j) in zip(a,b) if (k := i - j) != 0), 0) < 0\n",
    "    elif order == 'deglex':\n",
    "        return (s := sum(a) - sum(b)) < 0 or (s == 0 and next((k for (i,j) in zip(a,b) if (k := i - j) != 0), 0) < 0)\n",
    "    elif order == 'degrevlex':\n",
    "        return (s := sum(a) - sum(b)) < 0 or (s == 0 and next((k for (i,j) in zip(a[::-1],b[::-1]) if (k := i - j) != 0), 0) > 0)\n",
    "    else:\n",
    "        raise Exception('invalid ordering mode')\n",
    "        \n",
    "def lt(f,order):\n",
    "    ret = f.monomials()[0]\n",
    "    for m in f.monomials():\n",
    "        if is_less_than(ret.degrees(), m.degrees(), order):\n",
    "            ret = m\n",
    "    return f.coefficient(ret) * ret\n",
    "\n",
    "def div_alg_multi(R,f,poly_list,order):\n",
    "    lto = lambda p: lt(p, order)\n",
    "    q_list = [0] * len(poly_list)\n",
    "    r = 0\n",
    "    while f != 0:\n",
    "        for i, g in enumerate(poly_list):\n",
    "            if lto(g).divides(lto(f)):\n",
    "                q_list[i] += lto(f)//lto(g)\n",
    "                f -= (lto(f)//lto(g))*g\n",
    "                break\n",
    "        else:\n",
    "            r += lto(f)\n",
    "            f -= lto(f)\n",
    "    return (q_list, r)\n",
    "\n",
    "def s_polynomial(R,f,g,order):\n",
    "    return (xg := lcm(f0:=lt(f,order), g0:=lt(g, order)))//f0*f - xg//g0*g\n",
    "\n",
    "def is_groebner_basis(R,poly_list,order):\n",
    "    def s_poly(f,g):\n",
    "        return (xg := lcm(f0:=lt(f,order), g0:=lt(g, order)))//f0*f - xg//g0*g\n",
    "    for f in poly_list:\n",
    "        for g in poly_list:\n",
    "            if f != g and div_alg_multi(R,s_poly(f, g),poly_list,order)[1] != 0:\n",
    "                return False\n",
    "    return True\n",
    "\n",
    "def S(R, f,g,order):\n",
    "    mdeg_f = lt(f,order).degrees()\n",
    "    mdeg_g = lt(g,order).degrees()\n",
    "    lcm = product([R.gens()[i] ^ max(mdeg_f[i], mdeg_g[i]) for i in range(len(mdeg_f))])\n",
    "    return R((lcm/lt(f,order))*f - ((lcm)/lt(g,order))*g )\n",
    "    \n",
    "def is_groebner_basis(R,poly_list,order):\n",
    "    GB = True\n",
    "    for f,g in subsets(poly_list,2):\n",
    "        S_poly = S(R, f,g,order)\n",
    "        if (div_alg_multi(R, S_poly, poly_list, order)[1]) != 0:\n",
    "            return False\n",
    "    return True\n",
    "\n",
    "\n",
    "def groebner_basis(R,poly_list,order):\n",
    "    my_ideal = ideal(poly_list)\n",
    "    return my_ideal.groebner_basis('toy:buchberger')\n",
    "\n",
    "def minimal_groebner_basis(R,poly_list,order):\n",
    "    my_ideal = ideal(poly_list)\n",
    "    return my_ideal.groebner_basis('toy:buchberger2')\n",
    "\n",
    "def is_reduced_groebner_basis(R,G,order):\n",
    "    my_ideal = ideal(poly_list)\n",
    "    return my_ideal.reduced()\n",
    "\n",
    "def in_ideal_gen_by(R, f, poly_list, order):\n",
    "    G = minimal_groebner_basis(R, poly_list, order)\n",
    "    return div_alg_multi(R,f,G,order)[1] == 0"
   ]
  },
  {
   "cell_type": "markdown",
   "id": "a1088be0",
   "metadata": {},
   "source": [
    "# Multivariate Polynomial Rings"
   ]
  },
  {
   "cell_type": "code",
   "execution_count": 3,
   "id": "f4848629",
   "metadata": {},
   "outputs": [
    {
     "data": {
      "text/plain": [
       "Ideal (x^2 + x*y + 1, x*y^2 + y, x*y^2 + x*y + y) of Multivariate Polynomial Ring in x, y over Rational Field"
      ]
     },
     "execution_count": 3,
     "metadata": {},
     "output_type": "execute_result"
    }
   ],
   "source": [
    "R.<x,y> = QQ[]\n",
    "f = 1 + x*y + x^2\n",
    "g = y + x*y^2\n",
    "h = y + x*y + x*y^2\n",
    "I = ideal(f,g,h)\n",
    "I"
   ]
  },
  {
   "cell_type": "code",
   "execution_count": null,
   "id": "03a1c8ba",
   "metadata": {},
   "outputs": [],
   "source": []
  },
  {
   "cell_type": "markdown",
   "id": "56b64307",
   "metadata": {},
   "source": [
    "# Orderings of Monomials"
   ]
  },
  {
   "cell_type": "markdown",
   "id": "4aed543f",
   "metadata": {},
   "source": [
    "**Definition** A *monomial ordering* $>$ on $k[x_1, \\ldots , x_n]$ is a relation $>$ on $\\mathbb Z_n \\geq 0$, or equivalently, a relation on the set of monomials $x^{\\alpha}, \\alpha \\in \\mathbb Z_{\\geq 0}^n$, satisfying:\n",
    "1. $>$ is a total (or linear) ordering on $\\mathbb Z_{\\geq 0}^n$.\n",
    "2. If $\\alpha > \\beta$ and $\\gamma \\in \\mathbb Z_{\\geq 0}^n$, then $\\alpha + \\gamma > \\beta + \\gamma$.\n",
    "3. $>$ is a well-ordering on $\\mathbb Z_{\\geq 0}^n$. This means that every nonempty subset of $\\mathbb Z_{\\geq 0}^n$ has a smallest element under $>$. In other words, if $A \\subset \\mathbb Z_{\\geq 0}^n$ is nonempty, then there is $\\alpha \\in A$ such that $\\beta > \\alpha$ for every $\\beta \\not = \\alpha$ in $A$."
   ]
  },
  {
   "cell_type": "markdown",
   "id": "7b0703c9",
   "metadata": {},
   "source": [
    "**Definition (Lexicographic Order).** Let $\\alpha = (\\alpha_1, \\ldots, \\alpha_n)$ and $\\beta = (\\beta_1, \\ldots, \\beta_n)$ be in $\\mathbb Z_{\\geq 0}^n$. We say $\\alpha >_{lex} \\beta$ if the leftmost nonzero entry of the vector difference $ \\alpha - \\beta \\in \\mathbb Z^n$ is positive.We will write $x^{\\alpha} >_{lex} x^{\\beta}$ if $\\alpha >_{lex} \\beta$."
   ]
  },
  {
   "cell_type": "code",
   "execution_count": 4,
   "id": "63e7168a",
   "metadata": {},
   "outputs": [
    {
     "data": {
      "text/plain": [
       "True"
      ]
     },
     "execution_count": 4,
     "metadata": {},
     "output_type": "execute_result"
    }
   ],
   "source": [
    "# Example 1\n",
    "is_less_than([0,3,4],[1,2,0],'lex')"
   ]
  },
  {
   "cell_type": "code",
   "execution_count": 6,
   "id": "cbb15ae3",
   "metadata": {},
   "outputs": [
    {
     "data": {
      "text/plain": [
       "True"
      ]
     },
     "execution_count": 6,
     "metadata": {},
     "output_type": "execute_result"
    }
   ],
   "source": [
    "# Example 2\n",
    "is_less_than([0,0,3],[0,0,4],'lex')"
   ]
  },
  {
   "cell_type": "markdown",
   "id": "2821f126",
   "metadata": {},
   "source": [
    "**Definition 5 (Graded Lex Order).** Let α, β ∈ Zn≥0 . We say $\\alpha >_{deglex} \\beta$ if\n",
    "$$|\\alpha| = \\sum_{i = 1}^n \\alpha_i > |\\beta| = \\sum_{i = 1}^n |\\beta_i| \\ \\ \\ \\text{ or } \\ \\ \\ |\\alpha| = |\\beta| \\text{ and } \\alpha >_{lex} \\beta$$"
   ]
  },
  {
   "cell_type": "code",
   "execution_count": 8,
   "id": "2b68e910",
   "metadata": {},
   "outputs": [
    {
     "data": {
      "text/plain": [
       "True"
      ]
     },
     "execution_count": 8,
     "metadata": {},
     "output_type": "execute_result"
    }
   ],
   "source": [
    "# Example 1\n",
    "is_less_than([3,2,0],[1,2,3],'deglex')"
   ]
  },
  {
   "cell_type": "code",
   "execution_count": 7,
   "id": "ab75393f",
   "metadata": {},
   "outputs": [
    {
     "data": {
      "text/plain": [
       "True"
      ]
     },
     "execution_count": 7,
     "metadata": {},
     "output_type": "execute_result"
    }
   ],
   "source": [
    "# Example 1.5\n",
    "is_less_than([3,0,0],[0,0,1000],'deglex')"
   ]
  },
  {
   "cell_type": "code",
   "execution_count": 9,
   "id": "bbd3432a",
   "metadata": {},
   "outputs": [
    {
     "data": {
      "text/plain": [
       "True"
      ]
     },
     "execution_count": 9,
     "metadata": {},
     "output_type": "execute_result"
    }
   ],
   "source": [
    "# Example 2\n",
    "is_less_than([1,1,5],[1,2,4],'deglex')"
   ]
  },
  {
   "cell_type": "markdown",
   "id": "6a9730b8",
   "metadata": {},
   "source": [
    "**Definition 6 (Graded Reverse Lex Order).** Let $\\alpha, \\beta \\in \\mathbb Z^n_{\\geq 0}$. We say $\\alpha >_{degrevlex} \\beta$ if\n",
    "$$|\\alpha| = \\sum_{i = 1}^n \\alpha_i > |\\beta| = \\sum_{i = 1}^n |\\beta_i| \\ \\ \\ \\text{ or } \\ \\ \\ |\\alpha| = |\\beta| \\text{ and } \\text{and the rightmost nonzero entry of } \\alpha - \\beta \\in \\mathbb Z^n \\text{ is negative}$$"
   ]
  },
  {
   "cell_type": "code",
   "execution_count": 10,
   "id": "040c878f",
   "metadata": {},
   "outputs": [
    {
     "data": {
      "text/plain": [
       "True"
      ]
     },
     "execution_count": 10,
     "metadata": {},
     "output_type": "execute_result"
    }
   ],
   "source": [
    "# Example 1\n",
    "is_less_than([4,2,3],[4,7,1],'degrevlex')"
   ]
  },
  {
   "cell_type": "code",
   "execution_count": 11,
   "id": "006c7832",
   "metadata": {},
   "outputs": [
    {
     "data": {
      "text/plain": [
       "True"
      ]
     },
     "execution_count": 11,
     "metadata": {},
     "output_type": "execute_result"
    }
   ],
   "source": [
    "# Example 2\n",
    "is_less_than([4,1,3],[1,5,2],'degrevlex')"
   ]
  },
  {
   "cell_type": "markdown",
   "id": "a94a127f",
   "metadata": {},
   "source": [
    "# Describing a Single Polynomial"
   ]
  },
  {
   "cell_type": "markdown",
   "id": "17d51b8f",
   "metadata": {},
   "source": [
    "**Definition** The *multidegree* of $f$ is $\\text{multideg}(f) = \\max( \\alpha \\in \\mathbb Z^n_{\\geq 0} |  a_{\\alpha} \\not = 0 )$"
   ]
  },
  {
   "cell_type": "markdown",
   "id": "f6549f0d",
   "metadata": {},
   "source": [
    "**Definition** The *leading coefficient* of $f$ is $\\text{LC}(f) = a_{\\text{multideg}(f)} \\in k$"
   ]
  },
  {
   "cell_type": "markdown",
   "id": "ade3448d",
   "metadata": {},
   "source": [
    "**Definition** The *leading monomial* of $f$ is $\\text{LM}(f) = x^{\\text{multideg}(f)}$"
   ]
  },
  {
   "cell_type": "markdown",
   "id": "cc184464",
   "metadata": {},
   "source": [
    "**Definition** The *leading term* of $f$ is $LT(f) = LC(f) \\cdot LM(f)$"
   ]
  },
  {
   "cell_type": "code",
   "execution_count": 12,
   "id": "17961f0d",
   "metadata": {},
   "outputs": [
    {
     "name": "stdout",
     "output_type": "stream",
     "text": [
      "the leading term of f in lex order is x^3\n",
      "the leading term of f in deglex order is x^2*y*z^2\n",
      "the leading term of f in degrevlex order is x*y^3*z\n"
     ]
    }
   ],
   "source": [
    "# Example 1\n",
    "R.<x,y,z> = PolynomialRing(QQ)\n",
    "f = x^2 * y * z^2 + x * y^3 * z + x^3\n",
    "print(f\"the leading term of f in lex order is {lt(f,'lex')}\")\n",
    "print(f\"the leading term of f in deglex order is {lt(f,'deglex')}\")\n",
    "print(f\"the leading term of f in degrevlex order is {lt(f,'degrevlex')}\")"
   ]
  },
  {
   "cell_type": "code",
   "execution_count": 13,
   "id": "a7d31281",
   "metadata": {},
   "outputs": [
    {
     "name": "stdout",
     "output_type": "stream",
     "text": [
      "the leading term of g in lex order is -5*x^3\n",
      "the leading term of g in deglex order is 7*x^2*z^2\n",
      "the leading term of g in degrevlex order is 4*x*y^2*z\n"
     ]
    }
   ],
   "source": [
    "# Example 2\n",
    "g = 4*x*y^2*z + 4*z^2 - 5*x^3 + 7*x^2*z^2\n",
    "print(f\"the leading term of g in lex order is {lt(g,'lex')}\")\n",
    "print(f\"the leading term of g in deglex order is {lt(g,'deglex')}\")\n",
    "print(f\"the leading term of g in degrevlex order is {lt(g,'degrevlex')}\")"
   ]
  },
  {
   "cell_type": "markdown",
   "id": "ffd1de30",
   "metadata": {},
   "source": [
    "# Multivariate Division Algorithm"
   ]
  },
  {
   "cell_type": "markdown",
   "id": "fec7b615",
   "metadata": {},
   "source": [
    "**Theorem (Division Algorithm in $k[x_1, \\ldots , x_n]$).** Let $>$ be a monomial order on $\\mathbb Z^n_{\\geq 0}$, and let $F = \\langle f_1, \\ldots,f_s\\rangle$ be an ordered $s$-tuple of polynomials in $k[x_1, \\ldots , x_n]$. Then every $f \\in k[x_1, \\ldots ,x_n]$ can be written as\n",
    "$$f = q_1 f_1 + \\ldots + q_s f_s + r,$$\n",
    "where $q_i, r \\in k[x_1, \\ldots , x_n]$, and either $r = 0$ or $r$ is a linear combination, with coefficients in $k$, of monomials, none of which is divisible by any of $LT(f_1), \\ldots, LT( f_s)$. We call $r$ a *remainder* of $f$ on division by $F$. Furthermore, if $q_if_i  \\not = 0$, then\n",
    "$$\\text{multideg}( f ) \\geq \\text{multideg}(qi,fi ).$$"
   ]
  },
  {
   "cell_type": "code",
   "execution_count": 15,
   "id": "56949937",
   "metadata": {},
   "outputs": [
    {
     "data": {
      "text/plain": [
       "([y, -1], 2)"
      ]
     },
     "execution_count": 15,
     "metadata": {},
     "output_type": "execute_result"
    }
   ],
   "source": [
    "# Example 1\n",
    "R.<x,y> = PolynomialRing(QQ)\n",
    "f = x*y^2 + 1\n",
    "g = x*y + 1\n",
    "h = y + 1\n",
    "poly_list = [g,h]\n",
    "div_alg_multi(R,f,poly_list,'lex')"
   ]
  },
  {
   "cell_type": "code",
   "execution_count": 16,
   "id": "1819cb41",
   "metadata": {},
   "outputs": [
    {
     "data": {
      "text/plain": [
       "([x + y, 1], x + y + 1)"
      ]
     },
     "execution_count": 16,
     "metadata": {},
     "output_type": "execute_result"
    }
   ],
   "source": [
    "# Example 2\n",
    "R.<x,y> = PolynomialRing(QQ)\n",
    "f = x^2*y+x*y^2+y^2\n",
    "g = x*y-1\n",
    "h = y^2-1\n",
    "poly_list = [g,h]\n",
    "div_alg_multi(R,f,poly_list,'lex')"
   ]
  },
  {
   "cell_type": "code",
   "execution_count": 17,
   "id": "ef4498d7",
   "metadata": {},
   "outputs": [
    {
     "data": {
      "text/plain": [
       "([x + 1, x], 2*x + 1)"
      ]
     },
     "execution_count": 17,
     "metadata": {},
     "output_type": "execute_result"
    }
   ],
   "source": [
    "# Example 3\n",
    "R.<x,y> = PolynomialRing(QQ)\n",
    "f = x^2*y+x*y^2+y^2\n",
    "g = y^2-1\n",
    "h = x*y-1\n",
    "poly_list = [g,h]\n",
    "div_alg_multi(R,f,poly_list,'lex')"
   ]
  },
  {
   "cell_type": "code",
   "execution_count": 18,
   "id": "8408c9c0",
   "metadata": {},
   "outputs": [
    {
     "data": {
      "text/plain": [
       "([2*x, 8*y], 3*y^2 + 2*x)"
      ]
     },
     "execution_count": 18,
     "metadata": {},
     "output_type": "execute_result"
    }
   ],
   "source": [
    "# Example 4\n",
    "R.<x,y> = PolynomialRing(QQ)\n",
    "f = R(2*x*(x*y+y)**9+8*y*(x**2-y**2)**7+2*x+3*y**2)\n",
    "g = R((x*y+y)**9)\n",
    "h = R((x**2-y**2)**7) \n",
    "poly_list = [g,h]\n",
    "div_alg_multi(R,f,poly_list,'lex')"
   ]
  },
  {
   "cell_type": "markdown",
   "id": "a1b732fe",
   "metadata": {},
   "source": [
    "# S-Polynomial"
   ]
  },
  {
   "cell_type": "markdown",
   "id": "a270b394",
   "metadata": {},
   "source": [
    "**Definition** Let $f , g \\in k[x_1, \\ldots , x_n]$ be nonzero polynomials.\n",
    "\n",
    "(1) If $\\text{multideg}(f) = \\alpha$ and $\\text{multideg}(g) = \\beta$, then let $\\gamma = (\\gamma_1, \\ldots,\\gamma_n)$, where\n",
    "$$\\gamma_i = max(\\alpha_i, \\beta_i)$$ \n",
    "for each $i$. We call $x^{\\gamma}$ the least common multiple of $LM(f)$ and $LM(g)$, written $x^{\\gamma} = lcm(LM( f ), LM(g))$.\n",
    "\n",
    "(2)  The *S-polynomial* of f and g is the combination\n",
    "$$S(f,g) = \\frac{x^{\\gamma}}{LT(f)} \\cdot f - \\frac{x^{\\gamma}}{LT(g)} \\cdot g$$"
   ]
  },
  {
   "cell_type": "code",
   "execution_count": 19,
   "id": "887e64cb",
   "metadata": {},
   "outputs": [
    {
     "name": "stdout",
     "output_type": "stream",
     "text": [
      "the S-polynomial of f and g is -x^3*y^3 - 1/3*y^3 + x^2\n"
     ]
    }
   ],
   "source": [
    "# Example 1\n",
    "Q.<x,y> = PolynomialRing(QQ)\n",
    "f = x^3*y^2 - x^2*y^3 + x\n",
    "g = 3*x^4*y + y^2\n",
    "print(f\"the S-polynomial of f and g is {S(Q,f,g,'deglex')}\")"
   ]
  },
  {
   "cell_type": "markdown",
   "id": "06e59736",
   "metadata": {},
   "source": [
    "# Buchberger's Criterion"
   ]
  },
  {
   "cell_type": "markdown",
   "id": "f12ef9b9",
   "metadata": {},
   "source": [
    "**Definition.** Fix a monomial order on the polynomial ring $k[x_1, \\ldots , x_n]$. A finite subset $G = {g_1,\\ldots,g_t}$ of an ideal $I \\subset k[x_1, \\ldots,x_n]$ different from $\\{0\\}$ is said to be a *Gröbner basis* (or standard basis) if\n",
    "$$\\langle LT(g_1), \\ldots , LT(g_t) \\rangle = \\langle LT(I) \\rangle.$$\n",
    "Using the convention that $\\langle \\emptyset\\rangle = \\{0\\}$, we define the empty set $\\emptyset$ to be the Gröbner\n",
    "basis of the zero ideal $\\{0\\}$."
   ]
  },
  {
   "cell_type": "markdown",
   "id": "f34d9182",
   "metadata": {},
   "source": [
    "**Theorem** Fix a monomial order. Then every ideal $I \\subset k[x_1 , \\ldots, x_n ]$ has a Gröbner basis. Furthermore, any Gröbner basis for an ideal $I$ is a basis of $I$."
   ]
  },
  {
   "cell_type": "markdown",
   "id": "fae02211",
   "metadata": {},
   "source": [
    "**Theorem (Buchberger’s Criterion).** Let $I$ be a polynomial ideal. Then a basis $G = \\{g_1, \\ldots,g_t \\}$ of $I$ is a Gröbner basis of $I$ if and only if for all pairs $i \\not  = j$, the remainder on division of $S(g_i, g_j)$ by $G$ (listed in some order) is zero."
   ]
  },
  {
   "cell_type": "code",
   "execution_count": 20,
   "id": "92988724",
   "metadata": {},
   "outputs": [
    {
     "data": {
      "text/plain": [
       "False"
      ]
     },
     "execution_count": 20,
     "metadata": {},
     "output_type": "execute_result"
    }
   ],
   "source": [
    "# show [f1,f2] is not a Grobner basis\n",
    "Q.<x,y,z> = PolynomialRing(QQ)\n",
    "f1 = y - x^2\n",
    "f2 = z - x^3\n",
    "is_groebner_basis(Q,[f1,f2],'lex')"
   ]
  },
  {
   "cell_type": "code",
   "execution_count": 24,
   "id": "2b990bc3",
   "metadata": {},
   "outputs": [
    {
     "data": {
      "text/plain": [
       "True"
      ]
     },
     "execution_count": 24,
     "metadata": {},
     "output_type": "execute_result"
    }
   ],
   "source": [
    "# show [f1,f2] is a Grobner basis\n",
    "f1 = x - z^2\n",
    "f2 = y - z^3\n",
    "is_groebner_basis(Q,[f1,f2],'lex')"
   ]
  },
  {
   "cell_type": "code",
   "execution_count": 25,
   "id": "a20600fb",
   "metadata": {},
   "outputs": [
    {
     "data": {
      "text/plain": [
       "False"
      ]
     },
     "execution_count": 25,
     "metadata": {},
     "output_type": "execute_result"
    }
   ],
   "source": [
    "# show [g1,g2,g3] is a Grobner basis\n",
    "g1 = x^4*y^2 - z^5\n",
    "g2 = x^3*y^3 - 1\n",
    "g3 = x^2*y^4 - 2*z\n",
    "is_groebner_basis(Q,[g1, g2, g3],'deglex')"
   ]
  },
  {
   "cell_type": "code",
   "execution_count": 23,
   "id": "8e570dd5",
   "metadata": {},
   "outputs": [
    {
     "data": {
      "text/plain": [
       "True"
      ]
     },
     "execution_count": 23,
     "metadata": {},
     "output_type": "execute_result"
    }
   ],
   "source": [
    "# show [f1,f2,f3,f4,f5] is a Grobner basis\n",
    "f1 = x^3 - 2*x*y\n",
    "f2 = x^2*y - 2*y^2 + x\n",
    "f3 = -x^2 \n",
    "f4 = -2*x*y\n",
    "f5 = -2*y^2 + x\n",
    "is_groebner_basis(Q,[f1, f2, f3, f4, f5],'deglex')"
   ]
  },
  {
   "cell_type": "code",
   "execution_count": 26,
   "id": "5812b1f6",
   "metadata": {},
   "outputs": [
    {
     "data": {
      "text/plain": [
       "True"
      ]
     },
     "execution_count": 26,
     "metadata": {},
     "output_type": "execute_result"
    }
   ],
   "source": [
    "# show [f1,f2] is a Grobner basis\n",
    "Q.<x,y> = PolynomialRing(QQ)\n",
    "f1 = x^2 + 2*x + 3 + y^5 - y\n",
    "f2 = y^6 - y^2 + 2*y\n",
    "is_groebner_basis(Q,[f1,f2],'lex')"
   ]
  },
  {
   "cell_type": "markdown",
   "id": "2a2b08c2",
   "metadata": {},
   "source": [
    "## Buchberger's Algorithm"
   ]
  },
  {
   "cell_type": "markdown",
   "id": "81ed3fe8",
   "metadata": {},
   "source": [
    "**Theorem 2 (Buchberger’s Algorithm).** Let $I = \\langle f1 , . . . , fs \\rangle  \\not = \\{0\\}$ be a polynomial ideal. Then a Gröbner basis for $I$ can be constructed in a finite number of steps."
   ]
  },
  {
   "cell_type": "code",
   "execution_count": 27,
   "id": "4411173d",
   "metadata": {},
   "outputs": [
    {
     "name": "stdout",
     "output_type": "stream",
     "text": [
      "Proposed Gröbner basis for <f1,f1>: [x^3 - 2*x*y, x^2*y - 2*y^2 + x, x^2, x*y, y^2 - 1/2*x]\n",
      "This is a Gröbner basis: True\n"
     ]
    }
   ],
   "source": [
    "R.<x,y> = PolynomialRing(QQ)\n",
    "f = R(x^3 - 2*x*y)\n",
    "g = R(x^2*y - 2*y^2 + x)\n",
    "G = groebner_basis(R, [f,g], 'deglex')\n",
    "\n",
    "print(f\"Proposed Gröbner basis for <f1,f1>: {G}\")\n",
    "print(f\"This is a Gröbner basis: {is_groebner_basis(R,G,'deglex')}\")"
   ]
  },
  {
   "cell_type": "code",
   "execution_count": 28,
   "id": "d1256da1",
   "metadata": {},
   "outputs": [
    {
     "name": "stdout",
     "output_type": "stream",
     "text": [
      "all tests passed\n"
     ]
    }
   ],
   "source": [
    "# extended testing (no input needed)\n",
    "orders = ['lex','deglex','degrevlex']\n",
    "tests = 10\n",
    "polys_per_test = 5\n",
    "for i in range(tests):\n",
    "    poly_list = []\n",
    "    for j in range(polys_per_test):\n",
    "        poly_list.append(R.random_element())\n",
    "    order = orders[random.randint(0,2)]\n",
    "    G = groebner_basis(R,poly_list,order)\n",
    "    if not is_groebner_basis(R,G,order):\n",
    "        print('not a Gröbner basis')\n",
    "        break\n",
    "    if i==tests-1:\n",
    "        print('all tests passed')"
   ]
  },
  {
   "cell_type": "markdown",
   "id": "7920c089",
   "metadata": {},
   "source": [
    "## Minimial Grobner Basis"
   ]
  },
  {
   "cell_type": "markdown",
   "id": "4c8d2c99",
   "metadata": {},
   "source": [
    "**Theorem.** Let $I \\not = \\{0\\}$ be a polynomial ideal. Then, for a given monomial ordering, $I$ has a reduced Gröbner basis, and the reduced Gröbner basis is unique."
   ]
  },
  {
   "cell_type": "markdown",
   "id": "37356f01",
   "metadata": {},
   "source": [
    "**Definition** A *reduced Gröbner basis* for a polynomial ideal $I$ is a Gröbner basis $G$ for $I$ such that:\n",
    "1. $LC(p)=1$ for all $p \\in G$.\n",
    "2. For all $p \\in G$, no monomial of $p$ lies in $\\langle LT(G  \\setminus \\{p\\}) \\rangle$."
   ]
  },
  {
   "cell_type": "code",
   "execution_count": 29,
   "id": "5a28cd88",
   "metadata": {},
   "outputs": [
    {
     "name": "stdout",
     "output_type": "stream",
     "text": [
      "Proposed Gröbner basis for <f1,f2>: [x^3 - 2*x*y, x^2*y - 2*y^2 + x, x^2, x*y, y^2 - 1/2*x]\n",
      "Proposed minimal Gröbner basis for <f1,f2>: [x^2, x*y, y^2 - 1/2*x]\n"
     ]
    }
   ],
   "source": [
    "R.<x,y> = PolynomialRing(QQ, order = 'deglex')\n",
    "f1 = x^3 - 2*x*y\n",
    "f2 = x^2*y - 2*y^2 + x\n",
    "F = groebner_basis(R,[f1,f2], 'deglex')\n",
    "print(f\"Proposed Gröbner basis for <f1,f2>: {F}\")\n",
    "#res = is_reduced_groebner_basis(R,F,'grlex')\n",
    "#print(f'Is minimal Gröbner basis found for <f1,f2>?: { res }')\n",
    "G = minimal_groebner_basis(R,[f1,f2], 'deglex')\n",
    "print(f\"Proposed minimal Gröbner basis for <f1,f2>: {G}\")\n",
    "#res = is_reduced_groebner_basis(R,G,'grlex')\n",
    "#print(f'Is minimal Gröbner basis found for <f1,f2>?: { res }')"
   ]
  },
  {
   "cell_type": "code",
   "execution_count": 30,
   "id": "adc3e8c9",
   "metadata": {},
   "outputs": [
    {
     "name": "stdout",
     "output_type": "stream",
     "text": [
      "Proposed Gröbner basis for <f1,f2,f3>: [x^2*y*z - 2*x^3 + 1, z^4 - 3*z^3 - 4*y*z + 2*z^2 + x + z - 2, y^2*z - 2*y*z^2 + z^3 - z^2, y*z^2 + 2*y*z - 2*z^2 + 1, x^2 - z, x*y - x*z + z, y^2 - 2*y*z + z^2 - z, x*z + y*z - z^2, x + y - z]\n",
      "Proposed minimal Gröbner basis for <f1,f2,f3>: [z^4 - 3*z^3 - 4*y*z + 2*z^2 - y + 2*z - 2, y*z^2 + 2*y*z - 2*z^2 + 1, y^2 - 2*y*z + z^2 - z, x + y - z]\n"
     ]
    }
   ],
   "source": [
    "R.<x,y,z> = PolynomialRing(QQ, order = 'degrevlex')\n",
    "f1 = x*y + z - x*z\n",
    "f2 = x^2 - z\n",
    "f3 = 2*x^3 - x^2*y*z - 1\n",
    "\n",
    "F = groebner_basis(R,[f1,f2,f3], 'degrevlex')\n",
    "print(f\"Proposed Gröbner basis for <f1,f2,f3>: {F}\")\n",
    "G = minimal_groebner_basis(R,[f1,f2,f3], 'grlex')\n",
    "print(f\"Proposed minimal Gröbner basis for <f1,f2,f3>: {G}\")\n",
    "G = [x^6 - x^5 - 2*x^3 + 1, y - x^2 + x, z - x^2]"
   ]
  },
  {
   "cell_type": "markdown",
   "id": "9304f7fb",
   "metadata": {},
   "source": [
    "# Applications of Grobner Bases"
   ]
  },
  {
   "cell_type": "markdown",
   "id": "af8c1b58",
   "metadata": {},
   "source": [
    "## Ideal Membership"
   ]
  },
  {
   "cell_type": "markdown",
   "id": "3268908f",
   "metadata": {},
   "source": [
    "**Theorem** Let $G = \\{g_1, \\ldots , g_t\\}$ be a Gröbner basis for an ideal $I \\subset k[x_1, \\ldots , x_n]$ and let $f \\in k[x_1,\\ldots,x_n]$. Then $f \\in I$ if and only if the remainder on division of $f$ by $G$ is zero.\n"
   ]
  },
  {
   "cell_type": "code",
   "execution_count": 31,
   "id": "6f4c2a6f",
   "metadata": {},
   "outputs": [
    {
     "name": "stdout",
     "output_type": "stream",
     "text": [
      "Is f in the ideal?: True\n",
      "Is remainder == 0: True\n"
     ]
    }
   ],
   "source": [
    "# Example 1\n",
    "R.<x,y,z> = PolynomialRing(QQ, order = 'deglex')\n",
    "f = -4*x^2*y^2*z^2 + y^6 + 3*z^5\n",
    "f1 = x*z - y^2 \n",
    "f2 = x^3 - z^2\n",
    "print(f'Is f in the ideal?: { f in ideal(f1,f2) }')\n",
    "res = in_ideal_gen_by(R, f, [f1, f2], 'deglex')\n",
    "print(f'Is remainder == 0: { res }')"
   ]
  },
  {
   "cell_type": "code",
   "execution_count": 32,
   "id": "2c82409f",
   "metadata": {},
   "outputs": [
    {
     "name": "stdout",
     "output_type": "stream",
     "text": [
      "Is f in the ideal?: False\n",
      "Is remainder == 0: False\n"
     ]
    }
   ],
   "source": [
    "# Example 2\n",
    "f = x*y - 5*z^2 + z\n",
    "print(f'Is f in the ideal?: { f in ideal(f1,f2) }')\n",
    "res = in_ideal_gen_by(R, f, [f1, f2], 'deglex')\n",
    "\n",
    "print(f'Is remainder == 0: { res }')"
   ]
  },
  {
   "cell_type": "code",
   "execution_count": 33,
   "id": "0c481079",
   "metadata": {},
   "outputs": [
    {
     "name": "stdout",
     "output_type": "stream",
     "text": [
      "Is f in the ideal?: False\n",
      "Is remainder == 0: False\n"
     ]
    }
   ],
   "source": [
    "# Example 2\n",
    "R.<x,y,z> = PolynomialRing(QQ, order = 'deglex')\n",
    "f = x^2 - 2*x\n",
    "poly_list = [x^2+y, z-x, z-y/2]\n",
    "print(f'Is f in the ideal?: { f in ideal(poly_list) }')\n",
    "res = in_ideal_gen_by(R, f, poly_list, 'deglex')\n",
    "print(f'Is remainder == 0: { res }')"
   ]
  },
  {
   "cell_type": "code",
   "execution_count": 34,
   "id": "bb429814",
   "metadata": {},
   "outputs": [
    {
     "name": "stdout",
     "output_type": "stream",
     "text": [
      "Is f in the ideal?: True\n",
      "Is remainder == 0: True\n"
     ]
    }
   ],
   "source": [
    "# Example 3\n",
    "R.<x,y,z> = PolynomialRing(QQ, order = 'deglex')\n",
    "f = x^2 - 2*x\n",
    "poly_list = [x^2+y, z+x, z-y/2]\n",
    "print(f'Is f in the ideal?: { f in ideal(poly_list) }')\n",
    "res = in_ideal_gen_by(R, f, poly_list, 'deglex')\n",
    "print(f'Is remainder == 0: { res }')"
   ]
  },
  {
   "cell_type": "markdown",
   "id": "16ba05f9",
   "metadata": {},
   "source": [
    "## Elimination Theorem"
   ]
  },
  {
   "cell_type": "markdown",
   "id": "336a52d6",
   "metadata": {},
   "source": [
    "**Theorem (The Elimination Theorem).** Let $I \\subset k[x_1,\\ldots,x_n]$ be an ideal and let $G$ be a Gröbner basis of $I$ with respect to **lex order** where $x_1 > x_2 > \\ldots > x_n$. Then, for every $0 \\leq l \\leq n$, the set\n",
    "$$G_l = G \\cap k[x_{l + 1}, \\ldots, x_n]$$\n",
    "is a Gröbner basis of the $l$-th elimination ideal $I_l$."
   ]
  },
  {
   "cell_type": "markdown",
   "id": "74cca316",
   "metadata": {},
   "source": [
    "Use elimination to solve the system\n",
    "\\begin{align*}\n",
    "0 &= f_1 = x^2+ 2y^2 - y- 2z \\\\\n",
    "0 &= f_2 = x^2 - 8y^2 + 10z - 1  \\\\\n",
    "0 &= f_3 = x^2 - 7yz\n",
    "\\end{align*}\n",
    "How many solutions are there in $\\mathbb R^3$; how many are there in $\\mathbb C^3$?"
   ]
  },
  {
   "cell_type": "code",
   "execution_count": 35,
   "id": "0eee66b6",
   "metadata": {},
   "outputs": [
    {
     "name": "stdout",
     "output_type": "stream",
     "text": [
      "[x^2 - 392/9*z^2 + 28/3*z - 7/9, y - 490/9*z^2 + 67/6*z - 13/18, z^3 - 313/980*z^2 + 37/980*z - 1/490]\n",
      "3\n"
     ]
    }
   ],
   "source": [
    "R.<x,y,z> = PolynomialRing(QQ, order = 'lex')\n",
    "f1 = x^2+ 2*y^2 - y- 2*z \n",
    "f2 = x^2 - 8*y^2 + 10*z - 1 \n",
    "f3 = x^2 - 7*y*z\n",
    "\n",
    "G = minimal_groebner_basis(R,[f1,f2,f3], 'lex')\n",
    "print(G)\n",
    "print(len(G))"
   ]
  },
  {
   "cell_type": "code",
   "execution_count": null,
   "id": "5dc80b33",
   "metadata": {},
   "outputs": [],
   "source": []
  },
  {
   "cell_type": "markdown",
   "id": "fa45bed8",
   "metadata": {},
   "source": [
    "Use elimination to solve the system\n",
    "\\begin{align*}\n",
    "0 &= f_1 = x^2+ y + z - 1 \\\\\n",
    "0 &= f_2 = x + y^2 + z - 1 \\\\\n",
    "0 &= f_3 = x + y + z^2 - 1\n",
    "\\end{align*}\n",
    "How many solutions are there in $\\mathbb R^3$; how many are there in $\\mathbb C^3$?"
   ]
  },
  {
   "cell_type": "code",
   "execution_count": 36,
   "id": "5f500a18",
   "metadata": {},
   "outputs": [
    {
     "name": "stdout",
     "output_type": "stream",
     "text": [
      "[x + y + z^2 - 1, y^2 - y - z^2 + z, y*z^2 + 1/2*z^4 - 1/2*z^2, z^6 - 4*z^4 + 4*z^3 - z^2]\n"
     ]
    }
   ],
   "source": [
    "R.<x,y,z> = PolynomialRing(QQ, order = 'lex')\n",
    "f1 = x^2 + y + z - 1\n",
    "f2 = x + y^2 + z - 1\n",
    "f3 = x + y + z^2 - 1\n",
    "\n",
    "G = minimal_groebner_basis(R,[f1,f2,f3], 'lex')\n",
    "print(G)"
   ]
  },
  {
   "cell_type": "markdown",
   "id": "877c93c1",
   "metadata": {},
   "source": [
    "Use elimination to solve the system\n",
    "\\begin{align*}\n",
    "0 &= f_1 = x^5 + y^2 + z^2 - 4 \\\\\n",
    "0 &= f_2 = x^2 + 2y^2 - 5 \\\\\n",
    "0 &= f_3 = xz - 1\n",
    "\\end{align*}\n",
    "How many solutions are there in $\\mathbb R^3$; how many are there in $\\mathbb C^3$?"
   ]
  },
  {
   "cell_type": "code",
   "execution_count": 38,
   "id": "a7bdaf09",
   "metadata": {},
   "outputs": [
    {
     "name": "stdout",
     "output_type": "stream",
     "text": [
      "[x + z^6 - 3/2*z^4 - 1/2*z^2, y^2 - 1/2*z^5 + 3/4*z^3 + 1/4*z - 5/2, z^7 - 3/2*z^5 - 1/2*z^3 + 1]\n"
     ]
    }
   ],
   "source": [
    "R.<x,y,z> = PolynomialRing(QQ, order = 'lex')\n",
    "f1 = x^5+y^2+z^2-4\n",
    "f2 = x^2+2*y^2-5\n",
    "f3 = x*z-1\n",
    "\n",
    "G = minimal_groebner_basis(R,[f1,f2,f3], 'lex')\n",
    "print(G)"
   ]
  },
  {
   "cell_type": "markdown",
   "id": "0af4bfec",
   "metadata": {},
   "source": [
    "Use elimination to solve the system\n",
    "\\begin{align*}\n",
    "0 &= f_1 = x^2+ - 2xz + 5 \\\\\n",
    "0 &= f_2 = xy^2 + yz + 1 \\\\\n",
    "0 &= f_3 = 3y^2 - 8xz\n",
    "\\end{align*}\n",
    "How many solutions are there in $\\mathbb R^3$; how many are there in $\\mathbb C^3$?"
   ]
  },
  {
   "cell_type": "code",
   "execution_count": 39,
   "id": "390ffd31",
   "metadata": {},
   "outputs": [
    {
     "name": "stdout",
     "output_type": "stream",
     "text": [
      "[x + 119960726732800/483596973*z^7 + 2927549440000/161198991*z^6 - 157608191920640/161198991*z^5 - 611927395721600/483596973*z^4 - 14857079919551480/1450790919*z^3 + 377848832224480/161198991*z^2 - 3177979995598/17910999*z + 240873804800/53732997, y - 46473973780480/483596973*z^7 - 1147408998400/161198991*z^6 + 61057669722944/161198991*z^5 + 237223375813760/483596973*z^4 + 5756399991700688/1450790919*z^3 - 145833810707104/161198991*z^2 + 135421782400/1990111*z - 91569997880/53732997, z^8 - 1263/320*z^6 - 77/16*z^5 - 157093/3840*z^4 + 3991/320*z^3 - 45/32*z^2 + 9/128*z - 27/20480]\n"
     ]
    }
   ],
   "source": [
    "R.<x,y,z> = PolynomialRing(QQ, order = 'lex')\n",
    "f1 = x^2 - 2*x*z + 5\n",
    "f2 = x*y^2 + y*z + 1\n",
    "f3 = 3*y^2 - 8*x*z\n",
    "\n",
    "G = minimal_groebner_basis(R,[f1,f2,f3], 'lex')\n",
    "print(G)"
   ]
  },
  {
   "cell_type": "markdown",
   "id": "d139d095",
   "metadata": {},
   "source": [
    "Use elimination to solve the system\n",
    "\\begin{align*}\n",
    "0 &= f_1 = x^2+ y^2 + z^2 - 2x \\\\\n",
    "0 &= f_2 = x^3 - yz - x \\\\\n",
    "0 &= f_3 = x - y + 2z\n",
    "\\end{align*}\n",
    "How many solutions are there in $\\mathbb R^3$; how many are there in $\\mathbb C^3$?"
   ]
  },
  {
   "cell_type": "code",
   "execution_count": null,
   "id": "6d39b192",
   "metadata": {},
   "outputs": [],
   "source": [
    "R.<x,y,z> = PolynomialRing(QQ, order = 'lex')\n",
    "f1 = x^2+ y^2 + z^2 - 2*x\n",
    "f2 = x^3 - y*z - x \n",
    "f3 = x - y + 2*z\n",
    "G = minimal_groebner_basis(R,[f1,f2,f3], 'lex')\n",
    "print(G)"
   ]
  },
  {
   "cell_type": "code",
   "execution_count": 42,
   "id": "14273c83",
   "metadata": {},
   "outputs": [
    {
     "name": "stdout",
     "output_type": "stream",
     "text": [
      "[x^2 - 0.285714285714286, y^2 - 0.285714285714286]\n"
     ]
    }
   ],
   "source": [
    "R.<x,y> = PolynomialRing(QQ, order = 'lex')\n",
    "f1 = 0.5*x^2 + 3*y^2 - 1\n",
    "f2 = 3*x^2 + 0.5*y^2 - 1\n",
    "G = minimal_groebner_basis(R,[f1,f2], 'lex')\n",
    "print(G)"
   ]
  },
  {
   "cell_type": "markdown",
   "id": "0451cb52",
   "metadata": {},
   "source": [
    "# Want to learn more? "
   ]
  },
  {
   "cell_type": "markdown",
   "id": "03eff2b2",
   "metadata": {},
   "source": [
    "https://www.siam.org/conferences/cm/conference/ag23"
   ]
  }
 ],
 "metadata": {
  "kernelspec": {
   "display_name": "SageMath 9.6",
   "language": "sage",
   "name": "sagemath"
  },
  "language_info": {
   "codemirror_mode": {
    "name": "ipython",
    "version": 3
   },
   "file_extension": ".py",
   "mimetype": "text/x-python",
   "name": "python",
   "nbconvert_exporter": "python",
   "pygments_lexer": "ipython3",
   "version": "3.10.9"
  }
 },
 "nbformat": 4,
 "nbformat_minor": 5
}
